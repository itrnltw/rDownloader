{
  "nbformat": 4,
  "nbformat_minor": 0,
  "metadata": {
    "colab": {
      "provenance": [],
      "authorship_tag": "ABX9TyPi0STgypzo0YwNB3sfpqgK",
      "include_colab_link": true
    },
    "kernelspec": {
      "name": "python3",
      "display_name": "Python 3"
    },
    "language_info": {
      "name": "python"
    }
  },
  "cells": [
    {
      "cell_type": "markdown",
      "metadata": {
        "id": "view-in-github",
        "colab_type": "text"
      },
      "source": [
        "<a href=\"https://colab.research.google.com/github/itrnltw/rDownloader/blob/main/Recurbate_Downloader.ipynb\" target=\"_parent\"><img src=\"https://colab.research.google.com/assets/colab-badge.svg\" alt=\"Open In Colab\"/></a>"
      ]
    },
    {
      "cell_type": "markdown",
      "source": [
        "# Recurbate Downloader\n"
      ],
      "metadata": {
        "id": "xo7k8zjN-b00"
      }
    },
    {
      "cell_type": "markdown",
      "source": [
        "## Mount Drive"
      ],
      "metadata": {
        "id": "n9HMy6WUQPJD"
      }
    },
    {
      "cell_type": "code",
      "source": [
        "#@markdown <br><center><img src='https://upload.wikimedia.org/wikipedia/commons/thumb/d/da/Google_Drive_logo.png/600px-Google_Drive_logo.png' height=\"50\" alt=\"Gdrive-logo\"/></center>\n",
        "#@markdown <center><h3>Mount GDrive to /content/drive</h3></center><br>\n",
        "from google.colab import drive\n",
        "drive.mount('/content/gdrive')"
      ],
      "metadata": {
        "id": "iTChMoMJQFJR",
        "cellView": "form"
      },
      "execution_count": null,
      "outputs": []
    },
    {
      "cell_type": "markdown",
      "source": [
        "## Run Download"
      ],
      "metadata": {
        "id": "ukLQ7BJSQdq4"
      }
    },
    {
      "cell_type": "code",
      "execution_count": null,
      "metadata": {
        "id": "B6KlHy5Zyjma",
        "cellView": "form"
      },
      "outputs": [],
      "source": [
        "#@markdown <br><center><img src='https://recurbate.com/favicon.png' height=\"50\" alt=\"Recurbate-logo\"/></center>\n",
        "#@markdown <center><h3Download Video</h3></center><br>\n",
        "import requests, random, os\n",
        "from tqdm import tqdm\n",
        "from bs4 import BeautifulSoup\n",
        "os.system('')\n",
        "\n",
        "kepala = {\n",
        "    'Accept-Encoding': 'gzip, deflate, sdch',\n",
        "    'Accept-Language': 'en-US,en;q=0.8',\n",
        "    'Upgrade-Insecure-Requests': '1',\n",
        "    'User-Agent': 'Mozilla/5.0 (Windows NT 10.0; Win64; x64) AppleWebKit/537.36 (KHTML, like Gecko) Chrome/109.0.0.0 Safari/537.36',\n",
        "    'Accept': 'text/html,application/xhtml+xml,application/xml;q=0.9,image/webp,*/*;q=0.8',\n",
        "    'Cache-Control': 'max-age=0',\n",
        "    'Connection': 'keep-alive',\n",
        "}\n",
        "\n",
        "# with open(r'D:\\py\\working_proxies.txt') as f:\n",
        "#     proxies = f.readlines()\n",
        "proxies = []\n",
        "# f.close()\n",
        "\n",
        "def ambilProxy(proxies):\n",
        "    if len(proxies) > 0:\n",
        "        proxy = random.choice(proxies)\n",
        "        return proxy\n",
        "    else:\n",
        "        print(\"Proxies Empty\")\n",
        "        quit()\n",
        "        return quit()\n",
        "\n",
        "def ambilID(video_url, proxy):\n",
        "    try:\n",
        "        ambil_data = requests.get(video_url, headers=kepala, proxies={'http':proxy,'https':proxy}, timeout=5)\n",
        "        soup = BeautifulSoup(ambil_data.text, 'html.parser')\n",
        "        tombol = soup.find('button')\n",
        "        if tombol:\n",
        "            data_video_id = tombol.attrs.get('data-video-id')\n",
        "            data_token = tombol.attrs.get('data-token')\n",
        "            print(f\"[+] \\033[1;32;40m{data_token} {data_video_id}\\33[0m\")\n",
        "            return data_video_id, data_token\n",
        "        else:\n",
        "            print(f\"[-] \\033[1;31;40mFailed to find ID & Token: {soup.text}\\33[0m\")\n",
        "            return None, None\n",
        "    except (requests.exceptions.RequestException, ValueError):\n",
        "        print(f\"[-] \\033[1;31;40mFailed to access ID & Token\\33[0m\")\n",
        "        return None, None\n",
        "\n",
        "def ambileFileDariAPI(data_video_id, data_token, proxy):\n",
        "    try:\n",
        "        urlAPI = \"https://recurbate.com/api/get.php?video=\"+data_video_id+\"&token=\"+data_token\n",
        "        ambil_video = requests.get(urlAPI, headers=kepala, proxies={'http':proxy,'https':proxy}, timeout=5)\n",
        "        soup = BeautifulSoup(ambil_video.text, 'html.parser')\n",
        "        sumber = soup.find('source')\n",
        "        if sumber:\n",
        "            hasilnya = sumber.attrs.get('src')\n",
        "            print(f\"\\033[1;32;40m{hasilnya}\\33[0m\")\n",
        "            return hasilnya\n",
        "        else:\n",
        "            print(f\"[-] \\033[1;31;40mFailed to find video source: {soup.text}\\33[0m\")\n",
        "            return None\n",
        "    except (requests.exceptions.RequestException, ValueError):\n",
        "        print(f\"[-] \\033[1;31;40mFailed to access URL File\\33[0m\")\n",
        "        return None\n",
        "\n",
        "def download_video(url, file_name, proxy):\n",
        "    try:\n",
        "        response = requests.get(url, headers=kepala, stream=True, proxies={'http':proxy,'https':proxy}, timeout=5)\n",
        "        total_size = int(response.headers.get(\"Content-Length\", 0))\n",
        "        block_size = 1024\n",
        "        t=tqdm(total=total_size, unit='B', unit_scale=True)\n",
        "        with open(file_name, \"wb\") as f:\n",
        "            for data in response.iter_content(block_size):\n",
        "                t.update(len(data))\n",
        "                f.write(data)\n",
        "        t.close()\n",
        "        if total_size != 0 and t.n != total_size:\n",
        "            print(\"\\033[1;31;40mERROR, something went wrong\\33[0m\")\n",
        "            return None\n",
        "        elif response.status_code == 410:\n",
        "            print(response.status_code)\n",
        "            return None\n",
        "        else:\n",
        "            return f\"\\033[1;32;40mFile {file_name.split('/')[5]} Downloaded\\33[0m\"\n",
        "    except (requests.exceptions.RequestException, ValueError):\n",
        "        print(f\"[-] \\033[1;31;40mFailed to Download\\33[0m\")\n",
        "        return None\n",
        "\n",
        "def main():\n",
        "    video_url = \"https://recurbate.com/play.php?video=44290255\" #@param {type:\"string\"}\n",
        "    path = \"/content/gdrive/Shareddrives/#xTemp\" #@param {type:\"string\"}\n",
        "    id, token = None, None\n",
        "    alamat_File = None\n",
        "    downloaded = None\n",
        "    \n",
        "    withProxyOrNot = True #@param {type:\"boolean\"}\n",
        "    if not withProxyOrNot:\n",
        "        id, token = ambilID(video_url, None)\n",
        "        if not id and not token:\n",
        "            return quit()\n",
        "        alamat_File = ambileFileDariAPI(id, token, None)\n",
        "        if not alamat_File:\n",
        "            return quit()\n",
        "        file_name = rf\"E:\\Downloaded\\{alamat_File.split('?')[0].split('/')[4]}\"\n",
        "        download_video(alamat_File, file_name, None)\n",
        "        if not downloaded:\n",
        "            return quit()\n",
        "    else:\n",
        "        inputproxy = \"31.186.239.245:8080 116.0.61.122:3128\" #@param {type:\"string\"}\n",
        "        proxies = inputproxy.split(' ')\n",
        "        if inputproxy == \"\":\n",
        "            print(\"Input Proxy First\")\n",
        "            quit()\n",
        "        else:\n",
        "            counter = 1\n",
        "            proxy = ambilProxy(proxies)\n",
        "            print(f\"[{counter}] Working with {proxy}\")\n",
        "            while not downloaded :\n",
        "                while not alamat_File :\n",
        "                        while not id and not token :\n",
        "                            id, token = ambilID(video_url, proxy)\n",
        "                            if not id and not token:\n",
        "                                proxies.remove(proxy)\n",
        "                                proxy = ambilProxy(proxies)\n",
        "                                counter += 1\n",
        "                                print(f\"[{counter}] Changing Proxy to {proxy}\")\n",
        "                        alamat_File = ambileFileDariAPI(id, token, proxy)\n",
        "                        if not alamat_File:\n",
        "                            id, token = None, None\n",
        "                            proxies.remove(proxy)\n",
        "                            proxy = ambilProxy(proxies)\n",
        "                            counter += 1\n",
        "                            print(f\"[{counter}] Changing Proxy to {proxy}\")\n",
        "                        elif len(proxies) == 0:\n",
        "                            quit()\n",
        "                        else:\n",
        "                            file_name = rf\"{path+'/'+alamat_File.split('?')[0].split('/')[4]}\"\n",
        "                            # file_name = rf\"E:\\Downloaded\\{alamat_File.split('?')[0].split('/')[4]}\"\n",
        "                download_video(alamat_File, file_name, proxy)\n",
        "                if not downloaded:\n",
        "                    id, token = None, None\n",
        "                    alamat_File = None\n",
        "                    proxies.remove(proxy)\n",
        "                    proxy = ambilProxy()\n",
        "                    counter += 1\n",
        "                    print(f\"[{counter}] Changing Proxy to {proxy}\")\n",
        "                    \n",
        "\n",
        "if __name__=='__main__':\n",
        "    main()"
      ]
    }
  ]
}